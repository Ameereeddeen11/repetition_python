{
 "cells": [
  {
   "cell_type": "code",
   "execution_count": 3,
   "metadata": {
    "collapsed": true,
    "is_executing": true
   },
   "outputs": [
    {
     "name": "stdout",
     "output_type": "stream",
     "text": [
      "This is list in python ['Audi', 'BMW', 'Ford', 'Mercedes', 'BMW', 'Ford']\n",
      "On the list in python I can douplicate the value\n",
      "And can count of values. Count of cars list is  6\n"
     ]
    }
   ],
   "source": [
    "cars = [\"Audi\", \"BMW\", \"Ford\", \"Mercedes\", \"BMW\", \"Ford\"]\n",
    "print(\"This is list in python\", cars)\n",
    "print(\"On the list in python I can douplicate the value\")\n",
    "print(\"And can count of values. Count of cars list is \", len(cars))"
   ]
  },
  {
   "cell_type": "code",
   "execution_count": 8,
   "metadata": {},
   "outputs": [
    {
     "name": "stdout",
     "output_type": "stream",
     "text": [
      "Every list has index in it. It starts 0. That means first value has index 0 and second has 1 and third has 2 ect.\n",
      "For example: in cars list 0 index has  Audi\n",
      "List can have negative indexs. Negavite indexing means start from the end of the list\n",
      "If we give negative index on list for example -2 it will show us this value from cars list BMW\n",
      "we also can specify range where to start and where to end the range. For example here we want to start from 2 index and end 5 ['Ford', 'Mercedes', 'BMW']\n",
      "2 index is included but 5 index isn't included\n",
      "same is work in negative index ['Ford', 'Mercedes', 'BMW']\n"
     ]
    }
   ],
   "source": [
    "print(\"Every list has index in it. It starts 0. That means first value has index 0 and second has 1 and third has 2 ect.\")\n",
    "print(\"For example: in cars list 0 index has \", cars[0])\n",
    "print(\"List can have negative indexs. Negavite indexing means start from the end of the list\")\n",
    "print(\"If we give negative index on list for example -2 it will show us this value from cars list\", cars[-2])\n",
    "print(\"we also can specify range where to start and where to end the range. For example here we want to start from 2 index and end 5\", cars[2:5])\n",
    "print(\"2 index is included but 5 index isn't included\")\n",
    "print(\"same is work in negative index\", cars[-4:-1])"
   ]
  },
  {
   "cell_type": "code",
   "execution_count": 7,
   "metadata": {},
   "outputs": [
    {
     "name": "stdout",
     "output_type": "stream",
     "text": [
      "if we don't specify start index it will start from beginning. For example here ['Audi', 'BMW', 'Ford', 'Mercedes']\n",
      "if we don't specify end index it will go on to the end of the list. For example here ['Mercedes', 'BMW', 'Ford']\n"
     ]
    }
   ],
   "source": [
    "print(\"if we don't specify start index it will start from beginning. For example here\", cars[:4])\n",
    "print(\"if we don't specify end index it will go on to the end of the list. For example here\", cars[3:])"
   ]
  },
  {
   "cell_type": "code",
   "execution_count": 9,
   "metadata": {},
   "outputs": [
    {
     "name": "stdout",
     "output_type": "stream",
     "text": [
      "This car brand is exist in our list\n"
     ]
    }
   ],
   "source": [
    "input = input(\"Gives some car brand: \")\n",
    "if input in cars:\n",
    "    print(\"This car brand is exist in our list\")\n",
    "else:\n",
    "    print(\"This car brand isn't exist in out list\")"
   ]
  },
  {
   "cell_type": "code",
   "execution_count": 21,
   "metadata": {},
   "outputs": [
    {
     "name": "stdout",
     "output_type": "stream",
     "text": [
      "We can checkout item value in the list\n",
      "['Audi', 'BMW', 'Ford']\n",
      "same we can do it by range of item values\n",
      "['Audi', 'Porsche', 'BMW']\n"
     ]
    }
   ],
   "source": [
    "print(\"We can checke item value in the list\")\n",
    "cars[1] = \"BMW\"\n",
    "print(cars)\n",
    "print(\"same we can do it by range of item values\")\n",
    "cars[1:3] = [\"Porsche\", \"BMW\"]\n",
    "print(cars)"
   ]
  },
  {
   "cell_type": "code",
   "execution_count": 24,
   "metadata": {},
   "outputs": [
    {
     "name": "stdout",
     "output_type": "stream",
     "text": [
      "['Audi', 'Porsche', 'Toyota', 'Toyota', 'Toyota', 'BMW', 'Ferrari']\n",
      "['Audi', 'Porsche', 'Toyota', 'Toyota', 'Toyota', 'BMW', 'Ferrari', 'Ferrari']\n"
     ]
    }
   ],
   "source": [
    "cars.insert(2, \"Toyota\")\n",
    "print(cars)\n",
    "cars.append(\"Ferrari\")\n",
    "print(cars)"
   ]
  },
  {
   "cell_type": "code",
   "execution_count": 26,
   "metadata": {},
   "outputs": [
    {
     "name": "stdout",
     "output_type": "stream",
     "text": [
      "['Audi', 'Porsche', 'Toyota', 'Toyota', 'Toyota', 'BMW', 'Ferrari', 'Ferrari', 'Mustang', 'I8', '911', 'A6', 'Mustang', 'I8', '911', 'A6']\n"
     ]
    }
   ],
   "source": [
    "model = [\"Mustang\", \"I8\", \"911\", \"A6\"]\n",
    "cars.extend(model)\n",
    "print(cars)"
   ]
  },
  {
   "cell_type": "code",
   "execution_count": 27,
   "metadata": {},
   "outputs": [
    {
     "name": "stdout",
     "output_type": "stream",
     "text": [
      "['Audi', 'Porsche', 'Toyota', 'Toyota', 'Toyota', 'BMW', 'Ferrari', 'Mustang', 'I8', '911', 'A6', 'Mustang', 'I8', '911', 'A6']\n"
     ]
    }
   ],
   "source": [
    "#remove specific item\n",
    "cars.remove(\"Ferrari\")\n",
    "print(cars)"
   ]
  },
  {
   "cell_type": "code",
   "execution_count": 28,
   "metadata": {},
   "outputs": [
    {
     "name": "stdout",
     "output_type": "stream",
     "text": [
      "['Audi', 'Porsche', 'Toyota', 'Toyota', 'Toyota', 'BMW', 'Mustang', 'I8', '911', 'A6', 'Mustang', 'I8', '911', 'A6']\n"
     ]
    }
   ],
   "source": [
    "#remove specific index\n",
    "cars.pop(6)\n",
    "print(cars)\n",
    "#another way to remove specific index \n",
    "del cars[0]\n",
    "# del cars\n",
    "# it will delete list completely "
   ]
  },
  {
   "cell_type": "code",
   "execution_count": 30,
   "metadata": {},
   "outputs": [
    {
     "name": "stdout",
     "output_type": "stream",
     "text": [
      "[]\n",
      "['BMW', 'Porsche', 'Merdeces', 'McLearen']\n"
     ]
    }
   ],
   "source": [
    "# clear the list \n",
    "cars.clear()\n",
    "print(cars)\n",
    "new_cars = [\"BMW\", \"Porsche\", \"Merdeces\", \"McLearen\"]\n",
    "cars.extend(new_cars)\n",
    "print(cars)"
   ]
  },
  {
   "cell_type": "code",
   "execution_count": 33,
   "metadata": {},
   "outputs": [
    {
     "name": "stdout",
     "output_type": "stream",
     "text": [
      "BMW\n",
      "Porsche\n",
      "Merdeces\n",
      "McLearen\n",
      "loop through the index:\n",
      "BMW\n",
      "Porsche\n",
      "Merdeces\n",
      "McLearen\n"
     ]
    }
   ],
   "source": [
    "for car in cars:\n",
    "    print(car)\n",
    "\n",
    "print(\"loop through the index:\")\n",
    "for x in range(len(cars)):\n",
    "    print(cars[x])"
   ]
  },
  {
   "cell_type": "code",
   "execution_count": 34,
   "metadata": {},
   "outputs": [
    {
     "name": "stdout",
     "output_type": "stream",
     "text": [
      "BMW\n",
      "Porsche\n",
      "Merdeces\n",
      "McLearen\n"
     ]
    }
   ],
   "source": [
    "x = 0\n",
    "while x < len(cars):\n",
    "    print(cars[x])\n",
    "    x = x + 1\n"
   ]
  },
  {
   "cell_type": "code",
   "execution_count": 35,
   "metadata": {},
   "outputs": [
    {
     "name": "stdout",
     "output_type": "stream",
     "text": [
      "BMW\n",
      "Porsche\n",
      "Merdeces\n",
      "McLearen\n"
     ]
    },
    {
     "data": {
      "text/plain": [
       "[None, None, None, None]"
      ]
     },
     "execution_count": 35,
     "metadata": {},
     "output_type": "execute_result"
    }
   ],
   "source": [
    "# shorter way \n",
    "[print(i) for i in cars]"
   ]
  }
 ],
 "metadata": {
  "kernelspec": {
   "display_name": "Python 3",
   "language": "python",
   "name": "python3"
  },
  "language_info": {
   "codemirror_mode": {
    "name": "ipython",
    "version": 3
   },
   "file_extension": ".py",
   "mimetype": "text/x-python",
   "name": "python",
   "nbconvert_exporter": "python",
   "pygments_lexer": "ipython3",
   "version": "3.11.4"
  }
 },
 "nbformat": 4,
 "nbformat_minor": 0
}
